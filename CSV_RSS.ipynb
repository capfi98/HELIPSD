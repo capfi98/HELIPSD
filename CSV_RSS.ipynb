{
 "cells": [
  {
   "cell_type": "code",
   "execution_count": 1,
   "id": "7646fbaf",
   "metadata": {},
   "outputs": [],
   "source": [
    "with open('prueba','r') as archivo:\n",
    "    lineas_archivo=archivo.readlines()"
   ]
  },
  {
   "cell_type": "code",
   "execution_count": 3,
   "id": "db1c0fd0",
   "metadata": {},
   "outputs": [],
   "source": [
    "STATS = ['HHZ','HNZ','EHZ']"
   ]
  },
  {
   "cell_type": "code",
   "execution_count": 4,
   "id": "d24d3533",
   "metadata": {},
   "outputs": [
    {
     "data": {
      "text/plain": [
       "'SV BOLA 0N ANZ\\n'"
      ]
     },
     "execution_count": 4,
     "metadata": {},
     "output_type": "execute_result"
    }
   ],
   "source": [
    "lineas_archivo[10]"
   ]
  },
  {
   "cell_type": "code",
   "execution_count": 6,
   "id": "6cbda9c9",
   "metadata": {},
   "outputs": [
    {
     "data": {
      "text/plain": [
       "True"
      ]
     },
     "execution_count": 6,
     "metadata": {},
     "output_type": "execute_result"
    }
   ],
   "source": [
    "'0N' in lineas_archivo[10] "
   ]
  },
  {
   "cell_type": "code",
   "execution_count": 54,
   "id": "080e8d7e",
   "metadata": {},
   "outputs": [],
   "source": [
    "LINEAS_SV = []\n",
    "for linea in lineas_archivo:\n",
    "    if (STATS[0] in linea) or (STATS[1] in linea) or (STATS[2] in linea):\n",
    "    #    print(linea.strip().split())\n",
    "        linea_espacios = linea.strip().split()\n",
    "        if len(linea_espacios)==3:\n",
    "            #print(linea_espacios)\n",
    "            linea_espacios_02 = linea_espacios[0:2]\n",
    "            #print(linea_espacios_02)\n",
    "            linea_espacios_02.extend((\"\",linea_espacios[-1]))\n",
    "            linea_lista=linea_espacios_02\n",
    "            #print(linea_espacios_02)\n",
    "            \n",
    "        else:\n",
    "            #print(linea_espacios)\n",
    "            linea_lista=linea_espacios\n",
    "        #print(\", \".join(linea_lista))\n",
    "        linea_ultima=\" \".join(linea_lista)+'\\n'\n",
    "        #print(linea_ultima)\n",
    "        LINEAS_SV.append(linea_ultima)"
   ]
  },
  {
   "cell_type": "code",
   "execution_count": 55,
   "id": "59514db1",
   "metadata": {},
   "outputs": [],
   "source": [
    "with open('LINEAS_SV','w') as outfile:\n",
    "    outfile.writelines(LINEAS_SV)"
   ]
  },
  {
   "cell_type": "code",
   "execution_count": null,
   "id": "98a1a19d",
   "metadata": {},
   "outputs": [],
   "source": []
  }
 ],
 "metadata": {
  "kernelspec": {
   "display_name": "Python 3 (ipykernel)",
   "language": "python",
   "name": "python3"
  },
  "language_info": {
   "codemirror_mode": {
    "name": "ipython",
    "version": 3
   },
   "file_extension": ".py",
   "mimetype": "text/x-python",
   "name": "python",
   "nbconvert_exporter": "python",
   "pygments_lexer": "ipython3",
   "version": "3.9.2"
  }
 },
 "nbformat": 4,
 "nbformat_minor": 5
}
